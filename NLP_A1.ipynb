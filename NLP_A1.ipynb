{
 "cells": [
  {
   "cell_type": "code",
   "execution_count": 1,
   "id": "db1a4ce3",
   "metadata": {},
   "outputs": [
    {
     "name": "stdout",
     "output_type": "stream",
     "text": [
      "--2023-10-20 16:44:22--  https://raw.githubusercontent.com/qtli/COMP7607-Fall2023/master/assignments/A1/data/lm/train.txt\n",
      "Resolving raw.githubusercontent.com (raw.githubusercontent.com)... 185.199.108.133, 185.199.111.133, 185.199.110.133, ...\n",
      "Connecting to raw.githubusercontent.com (raw.githubusercontent.com)|185.199.108.133|:443... connected.\n",
      "HTTP request sent, awaiting response... 200 OK\n",
      "Length: 6640478 (6.3M) [text/plain]\n",
      "Saving to: 'train.txt'\n",
      "\n",
      "train.txt           100%[===================>]   6.33M  2.56MB/s    in 2.5s    \n",
      "\n",
      "2023-10-20 16:44:25 (2.56 MB/s) - 'train.txt' saved [6640478/6640478]\n",
      "\n",
      "--2023-10-20 16:44:25--  https://raw.githubusercontent.com/qtli/COMP7607-Fall2023/master/assignments/A1/data/lm/dev.txt\n",
      "Resolving raw.githubusercontent.com (raw.githubusercontent.com)... 185.199.111.133, 185.199.110.133, 185.199.109.133, ...\n",
      "Connecting to raw.githubusercontent.com (raw.githubusercontent.com)|185.199.111.133|:443... connected.\n",
      "HTTP request sent, awaiting response... 200 OK\n",
      "Length: 872910 (852K) [text/plain]\n",
      "Saving to: 'dev.txt'\n",
      "\n",
      "dev.txt             100%[===================>] 852.45K  1.03MB/s    in 0.8s    \n",
      "\n",
      "2023-10-20 16:44:27 (1.03 MB/s) - 'dev.txt' saved [872910/872910]\n",
      "\n",
      "--2023-10-20 16:44:27--  https://raw.githubusercontent.com/qtli/COMP7607-Fall2023/master/assignments/A1/data/lm/test.txt\n",
      "Resolving raw.githubusercontent.com (raw.githubusercontent.com)... 185.199.110.133, 185.199.109.133, 185.199.108.133, ...\n",
      "Connecting to raw.githubusercontent.com (raw.githubusercontent.com)|185.199.110.133|:443... connected.\n",
      "HTTP request sent, awaiting response... 200 OK\n",
      "Length: 869318 (849K) [text/plain]\n",
      "Saving to: 'test.txt'\n",
      "\n",
      "test.txt            100%[===================>] 848.94K  1.84MB/s    in 0.4s    \n",
      "\n",
      "2023-10-20 16:44:28 (1.84 MB/s) - 'test.txt' saved [869318/869318]\n",
      "\n"
     ]
    }
   ],
   "source": [
    "!wget -O train.txt https://raw.githubusercontent.com/qtli/COMP7607-Fall2023/master/assignments/A1/data/lm/train.txt\n",
    "!wget -O dev.txt https://raw.githubusercontent.com/qtli/COMP7607-Fall2023/master/assignments/A1/data/lm/dev.txt\n",
    "!wget -O test.txt https://raw.githubusercontent.com/qtli/COMP7607-Fall2023/master/assignments/A1/data/lm/test.txt"
   ]
  },
  {
   "cell_type": "code",
   "execution_count": 2,
   "id": "ec8bc15d",
   "metadata": {},
   "outputs": [
    {
     "name": "stdout",
     "output_type": "stream",
     "text": [
      "词汇表大小: 19349\n"
     ]
    }
   ],
   "source": [
    "from collections import Counter\n",
    "\n",
    "# 从 train.txt 文件中读取训练数据\n",
    "with open(\"train.txt\", \"r\", encoding=\"utf-8\") as file:\n",
    "    training_data = [line.strip().split() for line in file.readlines()]\n",
    "\n",
    "# 初始化词汇表，包括特殊标记\n",
    "vocab = {\"<s>\", \"</s>\", \"<UNK>\"}\n",
    "\n",
    "# 统计训练数据中每个词的频率\n",
    "word_counts = Counter(word for sentence in training_data for word in sentence)\n",
    "\n",
    "# 确定出现频率小于3次的词将被替换为<UNK>\n",
    "unk_words = [word for word, count in word_counts.items() if count < 3]\n",
    "\n",
    "# 将独特的词添加到词汇表中，不包括<UNK>词\n",
    "vocab.update(set(word for sentence in training_data for word in sentence if word not in unk_words))\n",
    "\n",
    "# 打印词汇表的大小\n",
    "vocabulary_size = len(vocab)\n",
    "print(\"词汇表大小:\", vocabulary_size)\n",
    "\n",
    "# 现在，您可以使用此词汇表来构建n-gram模型。"
   ]
  },
  {
   "cell_type": "code",
   "execution_count": null,
   "id": "43526567",
   "metadata": {},
   "outputs": [],
   "source": []
  }
 ],
 "metadata": {
  "kernelspec": {
   "display_name": "Python 3 (ipykernel)",
   "language": "python",
   "name": "python3"
  },
  "language_info": {
   "codemirror_mode": {
    "name": "ipython",
    "version": 3
   },
   "file_extension": ".py",
   "mimetype": "text/x-python",
   "name": "python",
   "nbconvert_exporter": "python",
   "pygments_lexer": "ipython3",
   "version": "3.9.12"
  }
 },
 "nbformat": 4,
 "nbformat_minor": 5
}
